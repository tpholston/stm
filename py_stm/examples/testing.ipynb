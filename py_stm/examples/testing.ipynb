{
 "cells": [
  {
   "cell_type": "code",
   "execution_count": 27,
   "metadata": {},
   "outputs": [
    {
     "name": "stdout",
     "output_type": "stream",
     "text": [
      "[['a']\n",
      " ['b']\n",
      " ['c']\n",
      " ['d']\n",
      " ['a']\n",
      " ['b']\n",
      " ['a']]\n",
      "[['a']\n",
      " ['b']\n",
      " ['c']\n",
      " ['d']\n",
      " ['a']\n",
      " ['b']\n",
      " ['a']]\n",
      "[[1. 0. 0. 0.]\n",
      " [0. 1. 0. 0.]\n",
      " [0. 0. 1. 0.]\n",
      " [0. 0. 0. 1.]\n",
      " [1. 0. 0. 0.]\n",
      " [0. 1. 0. 0.]\n",
      " [1. 0. 0. 0.]]\n",
      "(7,)\n"
     ]
    }
   ],
   "source": [
    "import numpy as np\n",
    "import pandas as pd\n",
    "from sklearn.preprocessing import OneHotEncoder\n",
    "\n",
    "arr = pd.DataFrame([[\"a\"],\n",
    "                    [\"b\"], \n",
    "                    [\"c\"], \n",
    "                    [\"d\"], \n",
    "                    [\"a\"], \n",
    "                    [\"b\"], \n",
    "                    [\"a\"]], columns=[\"letters\"])\n",
    "prev_cov = np.array(arr.loc[:, \"letters\"].astype(\"category\"))[:, None]\n",
    "print(prev_cov)\n",
    "\n",
    "if len(prev_cov.shape) > 2:\n",
    "\tprint(\"hello\")\n",
    "\tprev_cov = np.squeeze(prev_cov, axis=1)\n",
    "print(prev_cov)\n",
    "\n",
    "if not np.array_equal(prev_cov, prev_cov.astype(bool)):\n",
    "\tenc = OneHotEncoder(handle_unknown=\"ignore\")  # create OHE\n",
    "\tprev_cov = enc.fit_transform(prev_cov).toarray()  # fit OHE\n",
    "\n",
    "print(prev_cov)\n",
    "print(arr.loc[:, \"letters\"].shape)\n",
    "    "
   ]
  },
  {
   "cell_type": "code",
   "execution_count": 12,
   "metadata": {},
   "outputs": [
    {
     "ename": "ValueError",
     "evalue": "Your content covariate contains missing values. All values of the content covariate must be observed.",
     "output_type": "error",
     "traceback": [
      "\u001b[1;31m---------------------------------------------------------------------------\u001b[0m",
      "\u001b[1;31mValueError\u001b[0m                                Traceback (most recent call last)",
      "Cell \u001b[1;32mIn[12], line 9\u001b[0m\n\u001b[0;32m      6\u001b[0m betaindex \u001b[39m=\u001b[39m np\u001b[39m.\u001b[39marray(yvar\u001b[39m.\u001b[39mcat\u001b[39m.\u001b[39mcodes)\n\u001b[0;32m      8\u001b[0m \u001b[39mif\u001b[39;00m yvar\u001b[39m.\u001b[39misnull()\u001b[39m.\u001b[39many()\u001b[39m.\u001b[39many():\n\u001b[1;32m----> 9\u001b[0m \t\u001b[39mraise\u001b[39;00m \u001b[39mValueError\u001b[39;00m(\u001b[39m\"\u001b[39m\u001b[39mYour content covariate contains missing values. All values of the content covariate must be observed.\u001b[39m\u001b[39m\"\u001b[39m)\n\u001b[0;32m     11\u001b[0m \u001b[39mprint\u001b[39m(yvar)\n\u001b[0;32m     12\u001b[0m \u001b[39mprint\u001b[39m(yvarlevels)\n",
      "\u001b[1;31mValueError\u001b[0m: Your content covariate contains missing values. All values of the content covariate must be observed."
     ]
    }
   ],
   "source": [
    "from patsy import ModelDesc, dmatrix\n",
    "content=\"~letters\"\n",
    "\n",
    "yvar = arr.loc[:, \"letters\"].astype(\"category\")\n",
    "yvarlevels = set(yvar)\n",
    "betaindex = np.array(yvar.cat.codes)\n",
    "\n",
    "if yvar.isnull().any().any():\n",
    "\traise ValueError(\"Your content covariate contains missing values. All values of the content covariate must be observed.\")\n",
    "\n",
    "print(yvar)\n",
    "print(yvarlevels)\n",
    "print(betaindex)"
   ]
  }
 ],
 "metadata": {
  "kernelspec": {
   "display_name": "env",
   "language": "python",
   "name": "python3"
  },
  "language_info": {
   "codemirror_mode": {
    "name": "ipython",
    "version": 3
   },
   "file_extension": ".py",
   "mimetype": "text/x-python",
   "name": "python",
   "nbconvert_exporter": "python",
   "pygments_lexer": "ipython3",
   "version": "3.9.7"
  },
  "orig_nbformat": 4
 },
 "nbformat": 4,
 "nbformat_minor": 2
}
